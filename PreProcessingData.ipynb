{
  "nbformat": 4,
  "nbformat_minor": 0,
  "metadata": {
    "colab": {
      "name": "PreProcessingData.ipynb",
      "provenance": [],
      "collapsed_sections": [],
      "include_colab_link": true
    },
    "kernelspec": {
      "name": "python3",
      "display_name": "Python 3"
    },
    "language_info": {
      "name": "python"
    }
  },
  "cells": [
    {
      "cell_type": "markdown",
      "metadata": {
        "id": "view-in-github",
        "colab_type": "text"
      },
      "source": [
        "<a href=\"https://colab.research.google.com/github/firdausib/DM/blob/main/PreProcessingData.ipynb\" target=\"_parent\"><img src=\"https://colab.research.google.com/assets/colab-badge.svg\" alt=\"Open In Colab\"/></a>"
      ]
    },
    {
      "cell_type": "code",
      "execution_count": null,
      "metadata": {
        "id": "EsaZdOqBkXJB"
      },
      "outputs": [],
      "source": [
        "import numpy as np\n",
        "import matplotlib.pyplot as plt\n",
        "import pandas as pd"
      ]
    },
    {
      "cell_type": "code",
      "source": [
        "dataset = pd.read_csv('data.csv')\n",
        "x = dataset.iloc[:, :-1].values\n",
        "y = dataset.iloc[:, -1].values"
      ],
      "metadata": {
        "id": "gneu4DmilQbo"
      },
      "execution_count": null,
      "outputs": []
    },
    {
      "cell_type": "code",
      "source": [
        "print(x)"
      ],
      "metadata": {
        "colab": {
          "base_uri": "https://localhost:8080/"
        },
        "id": "XGU2xsHUl03M",
        "outputId": "6153b8a1-5973-4399-89e8-68dce824509a"
      },
      "execution_count": null,
      "outputs": [
        {
          "output_type": "stream",
          "name": "stdout",
          "text": [
            "[['leminerale' 3.0 4000]\n",
            " ['aqua' 10.0 3500]\n",
            " ['amidis' nan 3000]\n",
            " ['ades' 5.0 2500]\n",
            " ['adi' 3.0 2500]\n",
            " ['efata' nan 2000]\n",
            " ['vit' 5.0 3000]\n",
            " ['prima' 10.0 2500]\n",
            " ['equil' 1.0 10000]\n",
            " ['pristine' 5.0 3500]]\n"
          ]
        }
      ]
    },
    {
      "cell_type": "code",
      "source": [
        "print(y)"
      ],
      "metadata": {
        "colab": {
          "base_uri": "https://localhost:8080/"
        },
        "id": "kC9vc5i-l5zK",
        "outputId": "0e3163b5-00ef-439a-df22-ae8db40e859a"
      },
      "execution_count": null,
      "outputs": [
        {
          "output_type": "stream",
          "name": "stdout",
          "text": [
            "['Ya' 'Ya' 'Ya' 'Ya' 'No' 'Ya' 'Ya' 'No' 'Ya' 'Ya']\n"
          ]
        }
      ]
    },
    {
      "cell_type": "code",
      "source": [
        "from sklearn.impute import SimpleImputer\n",
        "imputer = SimpleImputer(missing_values=np.nan, strategy='mean')\n",
        "imputer.fit(x[:, 1:3])\n",
        "x[:, 1:3] = imputer.transform(x[:, 1:3])"
      ],
      "metadata": {
        "id": "HY3j086Ul9Cy"
      },
      "execution_count": null,
      "outputs": []
    },
    {
      "cell_type": "code",
      "source": [
        "print(x)"
      ],
      "metadata": {
        "colab": {
          "base_uri": "https://localhost:8080/"
        },
        "id": "8a7hcVmVm9U8",
        "outputId": "0a4e71ad-cf84-4ea1-e522-ff5ae02ca484"
      },
      "execution_count": null,
      "outputs": [
        {
          "output_type": "stream",
          "name": "stdout",
          "text": [
            "[['leminerale' 3.0 4000.0]\n",
            " ['aqua' 10.0 3500.0]\n",
            " ['amidis' 5.25 3000.0]\n",
            " ['ades' 5.0 2500.0]\n",
            " ['adi' 3.0 2500.0]\n",
            " ['efata' 5.25 2000.0]\n",
            " ['vit' 5.0 3000.0]\n",
            " ['prima' 10.0 2500.0]\n",
            " ['equil' 1.0 10000.0]\n",
            " ['pristine' 5.0 3500.0]]\n"
          ]
        }
      ]
    },
    {
      "cell_type": "code",
      "source": [
        "from sklearn.compose import ColumnTransformer\n",
        "from sklearn.preprocessing import OneHotEncoder\n",
        "ct = ColumnTransformer(transformers=[('encoder', OneHotEncoder(), [0])], remainder='passthrough')\n",
        "x = ct.fit_transform(x).toarray()"
      ],
      "metadata": {
        "id": "Vg9ftscjnICh"
      },
      "execution_count": null,
      "outputs": []
    },
    {
      "cell_type": "code",
      "source": [
        "print(x)"
      ],
      "metadata": {
        "colab": {
          "base_uri": "https://localhost:8080/"
        },
        "id": "i3PEcKjBnx0T",
        "outputId": "897cd2c8-56f7-4902-b012-62ef2a8ff3a9"
      },
      "execution_count": null,
      "outputs": [
        {
          "output_type": "stream",
          "name": "stdout",
          "text": [
            "[[0.00e+00 0.00e+00 0.00e+00 0.00e+00 0.00e+00 0.00e+00 1.00e+00 0.00e+00\n",
            "  0.00e+00 0.00e+00 3.00e+00 4.00e+03]\n",
            " [0.00e+00 0.00e+00 0.00e+00 1.00e+00 0.00e+00 0.00e+00 0.00e+00 0.00e+00\n",
            "  0.00e+00 0.00e+00 1.00e+01 3.50e+03]\n",
            " [0.00e+00 0.00e+00 1.00e+00 0.00e+00 0.00e+00 0.00e+00 0.00e+00 0.00e+00\n",
            "  0.00e+00 0.00e+00 5.25e+00 3.00e+03]\n",
            " [1.00e+00 0.00e+00 0.00e+00 0.00e+00 0.00e+00 0.00e+00 0.00e+00 0.00e+00\n",
            "  0.00e+00 0.00e+00 5.00e+00 2.50e+03]\n",
            " [0.00e+00 1.00e+00 0.00e+00 0.00e+00 0.00e+00 0.00e+00 0.00e+00 0.00e+00\n",
            "  0.00e+00 0.00e+00 3.00e+00 2.50e+03]\n",
            " [0.00e+00 0.00e+00 0.00e+00 0.00e+00 1.00e+00 0.00e+00 0.00e+00 0.00e+00\n",
            "  0.00e+00 0.00e+00 5.25e+00 2.00e+03]\n",
            " [0.00e+00 0.00e+00 0.00e+00 0.00e+00 0.00e+00 0.00e+00 0.00e+00 0.00e+00\n",
            "  0.00e+00 1.00e+00 5.00e+00 3.00e+03]\n",
            " [0.00e+00 0.00e+00 0.00e+00 0.00e+00 0.00e+00 0.00e+00 0.00e+00 1.00e+00\n",
            "  0.00e+00 0.00e+00 1.00e+01 2.50e+03]\n",
            " [0.00e+00 0.00e+00 0.00e+00 0.00e+00 0.00e+00 1.00e+00 0.00e+00 0.00e+00\n",
            "  0.00e+00 0.00e+00 1.00e+00 1.00e+04]\n",
            " [0.00e+00 0.00e+00 0.00e+00 0.00e+00 0.00e+00 0.00e+00 0.00e+00 0.00e+00\n",
            "  1.00e+00 0.00e+00 5.00e+00 3.50e+03]]\n"
          ]
        }
      ]
    },
    {
      "cell_type": "code",
      "source": [
        "from operator import le\n",
        "from sklearn.preprocessing import LabelEncoder\n",
        "le = LabelEncoder()\n",
        "y = le.fit_transform(y)"
      ],
      "metadata": {
        "id": "NV9ciNxPn18E"
      },
      "execution_count": null,
      "outputs": []
    },
    {
      "cell_type": "code",
      "source": [
        "print(y)"
      ],
      "metadata": {
        "colab": {
          "base_uri": "https://localhost:8080/"
        },
        "id": "1wnaFWwjoJvS",
        "outputId": "517c8a19-26b8-466b-b10a-be43df47b3b7"
      },
      "execution_count": null,
      "outputs": [
        {
          "output_type": "stream",
          "name": "stdout",
          "text": [
            "[1 1 1 1 0 1 1 0 1 1]\n"
          ]
        }
      ]
    },
    {
      "cell_type": "code",
      "source": [
        "from sklearn.model_selection import train_test_split\n",
        "x_train, x_test, y_train, y_test, = train_test_split(x, y, test_size = 0.2, random_state = 1)"
      ],
      "metadata": {
        "id": "cQkCs9r3oNhY"
      },
      "execution_count": null,
      "outputs": []
    },
    {
      "cell_type": "code",
      "source": [
        "print(x_train)"
      ],
      "metadata": {
        "colab": {
          "base_uri": "https://localhost:8080/"
        },
        "id": "-NaJ5KLromXU",
        "outputId": "82d78523-2129-477d-a610-8a9ddf3fa930"
      },
      "execution_count": null,
      "outputs": [
        {
          "output_type": "stream",
          "name": "stdout",
          "text": [
            "[[0.00e+00 0.00e+00 0.00e+00 0.00e+00 0.00e+00 0.00e+00 0.00e+00 0.00e+00\n",
            "  0.00e+00 1.00e+00 5.00e+00 3.00e+03]\n",
            " [0.00e+00 1.00e+00 0.00e+00 0.00e+00 0.00e+00 0.00e+00 0.00e+00 0.00e+00\n",
            "  0.00e+00 0.00e+00 3.00e+00 2.50e+03]\n",
            " [0.00e+00 0.00e+00 0.00e+00 0.00e+00 0.00e+00 0.00e+00 1.00e+00 0.00e+00\n",
            "  0.00e+00 0.00e+00 3.00e+00 4.00e+03]\n",
            " [1.00e+00 0.00e+00 0.00e+00 0.00e+00 0.00e+00 0.00e+00 0.00e+00 0.00e+00\n",
            "  0.00e+00 0.00e+00 5.00e+00 2.50e+03]\n",
            " [0.00e+00 0.00e+00 0.00e+00 1.00e+00 0.00e+00 0.00e+00 0.00e+00 0.00e+00\n",
            "  0.00e+00 0.00e+00 1.00e+01 3.50e+03]\n",
            " [0.00e+00 0.00e+00 0.00e+00 0.00e+00 0.00e+00 0.00e+00 0.00e+00 1.00e+00\n",
            "  0.00e+00 0.00e+00 1.00e+01 2.50e+03]\n",
            " [0.00e+00 0.00e+00 0.00e+00 0.00e+00 0.00e+00 1.00e+00 0.00e+00 0.00e+00\n",
            "  0.00e+00 0.00e+00 1.00e+00 1.00e+04]\n",
            " [0.00e+00 0.00e+00 0.00e+00 0.00e+00 1.00e+00 0.00e+00 0.00e+00 0.00e+00\n",
            "  0.00e+00 0.00e+00 5.25e+00 2.00e+03]]\n"
          ]
        }
      ]
    },
    {
      "cell_type": "code",
      "source": [
        "print(x_test)"
      ],
      "metadata": {
        "colab": {
          "base_uri": "https://localhost:8080/"
        },
        "id": "rzPl-fthoont",
        "outputId": "709b6ae3-ab84-4047-819f-e4821d316227"
      },
      "execution_count": null,
      "outputs": [
        {
          "output_type": "stream",
          "name": "stdout",
          "text": [
            "[[0.00e+00 0.00e+00 1.00e+00 0.00e+00 0.00e+00 0.00e+00 0.00e+00 0.00e+00\n",
            "  0.00e+00 0.00e+00 5.25e+00 3.00e+03]\n",
            " [0.00e+00 0.00e+00 0.00e+00 0.00e+00 0.00e+00 0.00e+00 0.00e+00 0.00e+00\n",
            "  1.00e+00 0.00e+00 5.00e+00 3.50e+03]]\n"
          ]
        }
      ]
    },
    {
      "cell_type": "code",
      "source": [
        "print(y_train)"
      ],
      "metadata": {
        "colab": {
          "base_uri": "https://localhost:8080/"
        },
        "id": "sU8mKCnIosLO",
        "outputId": "a35d0519-134f-45b3-af5c-4c4c3d60347f"
      },
      "execution_count": null,
      "outputs": [
        {
          "output_type": "stream",
          "name": "stdout",
          "text": [
            "[1 0 1 1 1 0 1 1]\n"
          ]
        }
      ]
    },
    {
      "cell_type": "code",
      "source": [
        "print(y_test)"
      ],
      "metadata": {
        "colab": {
          "base_uri": "https://localhost:8080/"
        },
        "id": "2myq-D4Qoxzg",
        "outputId": "49ce1846-24b1-4157-c332-44bb0833dc45"
      },
      "execution_count": null,
      "outputs": [
        {
          "output_type": "stream",
          "name": "stdout",
          "text": [
            "[1 1]\n"
          ]
        }
      ]
    },
    {
      "cell_type": "code",
      "source": [
        "from sklearn.preprocessing import StandardScaler\n",
        "sc = StandardScaler()\n",
        "x_train[:, 3:] = sc.fit_transform(x_train[:, 3:])\n",
        "x_test[:, 3:] = sc.transform(x_test[:, 3:])"
      ],
      "metadata": {
        "id": "FbwuQGsXo1i6"
      },
      "execution_count": null,
      "outputs": []
    },
    {
      "cell_type": "code",
      "source": [
        "print(x_train)"
      ],
      "metadata": {
        "colab": {
          "base_uri": "https://localhost:8080/"
        },
        "id": "LXQOnfgAp8rA",
        "outputId": "c44aa807-c31f-49fc-8ad6-704a6a961cd2"
      },
      "execution_count": null,
      "outputs": [
        {
          "output_type": "stream",
          "name": "stdout",
          "text": [
            "[[ 0.          0.          0.         -0.37796447 -0.37796447 -0.37796447\n",
            "  -0.37796447 -0.37796447  0.          2.64575131 -0.09283285 -0.30779351]\n",
            " [ 0.          1.          0.         -0.37796447 -0.37796447 -0.37796447\n",
            "  -0.37796447 -0.37796447  0.         -0.37796447 -0.75297756 -0.51298918]\n",
            " [ 0.          0.          0.         -0.37796447 -0.37796447 -0.37796447\n",
            "   2.64575131 -0.37796447  0.         -0.37796447 -0.75297756  0.10259784]\n",
            " [ 1.          0.          0.         -0.37796447 -0.37796447 -0.37796447\n",
            "  -0.37796447 -0.37796447  0.         -0.37796447 -0.09283285 -0.51298918]\n",
            " [ 0.          0.          0.          2.64575131 -0.37796447 -0.37796447\n",
            "  -0.37796447 -0.37796447  0.         -0.37796447  1.55752893 -0.10259784]\n",
            " [ 0.          0.          0.         -0.37796447 -0.37796447 -0.37796447\n",
            "  -0.37796447  2.64575131  0.         -0.37796447  1.55752893 -0.51298918]\n",
            " [ 0.          0.          0.         -0.37796447 -0.37796447  2.64575131\n",
            "  -0.37796447 -0.37796447  0.         -0.37796447 -1.41312228  2.56494588]\n",
            " [ 0.          0.          0.         -0.37796447  2.64575131 -0.37796447\n",
            "  -0.37796447 -0.37796447  0.         -0.37796447 -0.01031476 -0.71818485]]\n"
          ]
        }
      ]
    },
    {
      "cell_type": "code",
      "source": [
        "print(x_test)"
      ],
      "metadata": {
        "colab": {
          "base_uri": "https://localhost:8080/"
        },
        "id": "nsx7y9rTqC4F",
        "outputId": "0bae0b61-d07c-4f6d-f221-f945d89add96"
      },
      "execution_count": null,
      "outputs": [
        {
          "output_type": "stream",
          "name": "stdout",
          "text": [
            "[[ 0.          0.          1.         -0.37796447 -0.37796447 -0.37796447\n",
            "  -0.37796447 -0.37796447  0.         -0.37796447 -0.01031476 -0.30779351]\n",
            " [ 0.          0.          0.         -0.37796447 -0.37796447 -0.37796447\n",
            "  -0.37796447 -0.37796447  1.         -0.37796447 -0.09283285 -0.10259784]]\n"
          ]
        }
      ]
    }
  ]
}